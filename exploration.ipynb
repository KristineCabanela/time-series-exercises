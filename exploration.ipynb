{
 "cells": [
  {
   "cell_type": "markdown",
   "id": "9ba2901c",
   "metadata": {},
   "source": [
    "# Explore Exercises"
   ]
  },
  {
   "cell_type": "code",
   "execution_count": 1,
   "id": "6dbdafca",
   "metadata": {},
   "outputs": [],
   "source": [
    "import numpy as np\n",
    "import pandas as pd\n",
    "import matplotlib.pyplot as plt\n",
    "import seaborn as sns\n",
    "import statsmodels.api as sm\n",
    "\n",
    "import warnings\n",
    "warnings.filterwarnings(\"ignore\")\n",
    "\n",
    "from acquire import get_store_data"
   ]
  },
  {
   "cell_type": "markdown",
   "id": "ac9e00dc",
   "metadata": {},
   "source": [
    "# Acquire"
   ]
  },
  {
   "cell_type": "code",
   "execution_count": 2,
   "id": "18af4542",
   "metadata": {},
   "outputs": [
    {
     "name": "stdout",
     "output_type": "stream",
     "text": [
      "Data is cached. Reading from .csv files\n",
      "Items data acquired...\n",
      "Stores data acquired...\n",
      "Sales data acquired...\n",
      "Acquisition complete\n"
     ]
    },
    {
     "data": {
      "text/html": [
       "<div>\n",
       "<style scoped>\n",
       "    .dataframe tbody tr th:only-of-type {\n",
       "        vertical-align: middle;\n",
       "    }\n",
       "\n",
       "    .dataframe tbody tr th {\n",
       "        vertical-align: top;\n",
       "    }\n",
       "\n",
       "    .dataframe thead th {\n",
       "        text-align: right;\n",
       "    }\n",
       "</style>\n",
       "<table border=\"1\" class=\"dataframe\">\n",
       "  <thead>\n",
       "    <tr style=\"text-align: right;\">\n",
       "      <th></th>\n",
       "      <th>sale_amount</th>\n",
       "      <th>sale_date</th>\n",
       "      <th>sale_id</th>\n",
       "      <th>item_brand</th>\n",
       "      <th>item_id</th>\n",
       "      <th>item_name</th>\n",
       "      <th>item_price</th>\n",
       "      <th>item_upc12</th>\n",
       "      <th>item_upc14</th>\n",
       "      <th>store_address</th>\n",
       "      <th>store_city</th>\n",
       "      <th>store_id</th>\n",
       "      <th>store_state</th>\n",
       "      <th>store_zipcode</th>\n",
       "    </tr>\n",
       "  </thead>\n",
       "  <tbody>\n",
       "    <tr>\n",
       "      <th>0</th>\n",
       "      <td>13.0</td>\n",
       "      <td>Tue, 01 Jan 2013 00:00:00 GMT</td>\n",
       "      <td>1</td>\n",
       "      <td>Riceland</td>\n",
       "      <td>1</td>\n",
       "      <td>Riceland American Jazmine Rice</td>\n",
       "      <td>0.84</td>\n",
       "      <td>35200264013</td>\n",
       "      <td>35200264013</td>\n",
       "      <td>12125 Alamo Ranch Pkwy</td>\n",
       "      <td>San Antonio</td>\n",
       "      <td>1</td>\n",
       "      <td>TX</td>\n",
       "      <td>78253</td>\n",
       "    </tr>\n",
       "    <tr>\n",
       "      <th>1</th>\n",
       "      <td>11.0</td>\n",
       "      <td>Wed, 02 Jan 2013 00:00:00 GMT</td>\n",
       "      <td>2</td>\n",
       "      <td>Riceland</td>\n",
       "      <td>1</td>\n",
       "      <td>Riceland American Jazmine Rice</td>\n",
       "      <td>0.84</td>\n",
       "      <td>35200264013</td>\n",
       "      <td>35200264013</td>\n",
       "      <td>12125 Alamo Ranch Pkwy</td>\n",
       "      <td>San Antonio</td>\n",
       "      <td>1</td>\n",
       "      <td>TX</td>\n",
       "      <td>78253</td>\n",
       "    </tr>\n",
       "    <tr>\n",
       "      <th>2</th>\n",
       "      <td>14.0</td>\n",
       "      <td>Thu, 03 Jan 2013 00:00:00 GMT</td>\n",
       "      <td>3</td>\n",
       "      <td>Riceland</td>\n",
       "      <td>1</td>\n",
       "      <td>Riceland American Jazmine Rice</td>\n",
       "      <td>0.84</td>\n",
       "      <td>35200264013</td>\n",
       "      <td>35200264013</td>\n",
       "      <td>12125 Alamo Ranch Pkwy</td>\n",
       "      <td>San Antonio</td>\n",
       "      <td>1</td>\n",
       "      <td>TX</td>\n",
       "      <td>78253</td>\n",
       "    </tr>\n",
       "    <tr>\n",
       "      <th>3</th>\n",
       "      <td>13.0</td>\n",
       "      <td>Fri, 04 Jan 2013 00:00:00 GMT</td>\n",
       "      <td>4</td>\n",
       "      <td>Riceland</td>\n",
       "      <td>1</td>\n",
       "      <td>Riceland American Jazmine Rice</td>\n",
       "      <td>0.84</td>\n",
       "      <td>35200264013</td>\n",
       "      <td>35200264013</td>\n",
       "      <td>12125 Alamo Ranch Pkwy</td>\n",
       "      <td>San Antonio</td>\n",
       "      <td>1</td>\n",
       "      <td>TX</td>\n",
       "      <td>78253</td>\n",
       "    </tr>\n",
       "    <tr>\n",
       "      <th>4</th>\n",
       "      <td>10.0</td>\n",
       "      <td>Sat, 05 Jan 2013 00:00:00 GMT</td>\n",
       "      <td>5</td>\n",
       "      <td>Riceland</td>\n",
       "      <td>1</td>\n",
       "      <td>Riceland American Jazmine Rice</td>\n",
       "      <td>0.84</td>\n",
       "      <td>35200264013</td>\n",
       "      <td>35200264013</td>\n",
       "      <td>12125 Alamo Ranch Pkwy</td>\n",
       "      <td>San Antonio</td>\n",
       "      <td>1</td>\n",
       "      <td>TX</td>\n",
       "      <td>78253</td>\n",
       "    </tr>\n",
       "  </tbody>\n",
       "</table>\n",
       "</div>"
      ],
      "text/plain": [
       "   sale_amount                      sale_date  sale_id item_brand  item_id  \\\n",
       "0         13.0  Tue, 01 Jan 2013 00:00:00 GMT        1   Riceland        1   \n",
       "1         11.0  Wed, 02 Jan 2013 00:00:00 GMT        2   Riceland        1   \n",
       "2         14.0  Thu, 03 Jan 2013 00:00:00 GMT        3   Riceland        1   \n",
       "3         13.0  Fri, 04 Jan 2013 00:00:00 GMT        4   Riceland        1   \n",
       "4         10.0  Sat, 05 Jan 2013 00:00:00 GMT        5   Riceland        1   \n",
       "\n",
       "                        item_name  item_price   item_upc12   item_upc14  \\\n",
       "0  Riceland American Jazmine Rice        0.84  35200264013  35200264013   \n",
       "1  Riceland American Jazmine Rice        0.84  35200264013  35200264013   \n",
       "2  Riceland American Jazmine Rice        0.84  35200264013  35200264013   \n",
       "3  Riceland American Jazmine Rice        0.84  35200264013  35200264013   \n",
       "4  Riceland American Jazmine Rice        0.84  35200264013  35200264013   \n",
       "\n",
       "            store_address   store_city  store_id store_state  store_zipcode  \n",
       "0  12125 Alamo Ranch Pkwy  San Antonio         1          TX          78253  \n",
       "1  12125 Alamo Ranch Pkwy  San Antonio         1          TX          78253  \n",
       "2  12125 Alamo Ranch Pkwy  San Antonio         1          TX          78253  \n",
       "3  12125 Alamo Ranch Pkwy  San Antonio         1          TX          78253  \n",
       "4  12125 Alamo Ranch Pkwy  San Antonio         1          TX          78253  "
      ]
     },
     "execution_count": 2,
     "metadata": {},
     "output_type": "execute_result"
    }
   ],
   "source": [
    "# read csv file. Specify 'datetime' column as index column, parse dates and sort index\n",
    "\n",
    "df = get_store_data()\n",
    "df.head()"
   ]
  },
  {
   "cell_type": "code",
   "execution_count": 3,
   "id": "863d78b7",
   "metadata": {},
   "outputs": [],
   "source": [
    "# Reassign the sale_date column to be a datetime type\n",
    "df.sale_date = pd.to_datetime(df.sale_date)\n",
    "\n",
    "# Sort rows by the date and then set the index as that date\n",
    "df = df.set_index(\"sale_date\").sort_index()"
   ]
  },
  {
   "cell_type": "code",
   "execution_count": 4,
   "id": "357511dc",
   "metadata": {},
   "outputs": [
    {
     "data": {
      "text/html": [
       "<div>\n",
       "<style scoped>\n",
       "    .dataframe tbody tr th:only-of-type {\n",
       "        vertical-align: middle;\n",
       "    }\n",
       "\n",
       "    .dataframe tbody tr th {\n",
       "        vertical-align: top;\n",
       "    }\n",
       "\n",
       "    .dataframe thead th {\n",
       "        text-align: right;\n",
       "    }\n",
       "</style>\n",
       "<table border=\"1\" class=\"dataframe\">\n",
       "  <thead>\n",
       "    <tr style=\"text-align: right;\">\n",
       "      <th></th>\n",
       "      <th>sale_amount</th>\n",
       "      <th>sale_id</th>\n",
       "      <th>item_brand</th>\n",
       "      <th>item_id</th>\n",
       "      <th>item_name</th>\n",
       "      <th>item_price</th>\n",
       "      <th>item_upc12</th>\n",
       "      <th>item_upc14</th>\n",
       "      <th>store_address</th>\n",
       "      <th>store_city</th>\n",
       "      <th>store_id</th>\n",
       "      <th>store_state</th>\n",
       "      <th>store_zipcode</th>\n",
       "    </tr>\n",
       "    <tr>\n",
       "      <th>sale_date</th>\n",
       "      <th></th>\n",
       "      <th></th>\n",
       "      <th></th>\n",
       "      <th></th>\n",
       "      <th></th>\n",
       "      <th></th>\n",
       "      <th></th>\n",
       "      <th></th>\n",
       "      <th></th>\n",
       "      <th></th>\n",
       "      <th></th>\n",
       "      <th></th>\n",
       "      <th></th>\n",
       "    </tr>\n",
       "  </thead>\n",
       "  <tbody>\n",
       "    <tr>\n",
       "      <th>2013-01-01 00:00:00+00:00</th>\n",
       "      <td>13.0</td>\n",
       "      <td>1</td>\n",
       "      <td>Riceland</td>\n",
       "      <td>1</td>\n",
       "      <td>Riceland American Jazmine Rice</td>\n",
       "      <td>0.84</td>\n",
       "      <td>35200264013</td>\n",
       "      <td>35200264013</td>\n",
       "      <td>12125 Alamo Ranch Pkwy</td>\n",
       "      <td>San Antonio</td>\n",
       "      <td>1</td>\n",
       "      <td>TX</td>\n",
       "      <td>78253</td>\n",
       "    </tr>\n",
       "    <tr>\n",
       "      <th>2013-01-01 00:00:00+00:00</th>\n",
       "      <td>26.0</td>\n",
       "      <td>211817</td>\n",
       "      <td>Mueller</td>\n",
       "      <td>12</td>\n",
       "      <td>Mueller Sport Care Basic Support Level Medium ...</td>\n",
       "      <td>8.40</td>\n",
       "      <td>74676640211</td>\n",
       "      <td>74676640211</td>\n",
       "      <td>12018 Perrin Beitel Rd</td>\n",
       "      <td>San Antonio</td>\n",
       "      <td>7</td>\n",
       "      <td>TX</td>\n",
       "      <td>78217</td>\n",
       "    </tr>\n",
       "    <tr>\n",
       "      <th>2013-01-01 00:00:00+00:00</th>\n",
       "      <td>27.0</td>\n",
       "      <td>832657</td>\n",
       "      <td>Mama Marys</td>\n",
       "      <td>46</td>\n",
       "      <td>Pizza Sauce</td>\n",
       "      <td>4.65</td>\n",
       "      <td>35457770664</td>\n",
       "      <td>35457770664</td>\n",
       "      <td>12018 Perrin Beitel Rd</td>\n",
       "      <td>San Antonio</td>\n",
       "      <td>7</td>\n",
       "      <td>TX</td>\n",
       "      <td>78217</td>\n",
       "    </tr>\n",
       "    <tr>\n",
       "      <th>2013-01-01 00:00:00+00:00</th>\n",
       "      <td>54.0</td>\n",
       "      <td>213643</td>\n",
       "      <td>Mueller</td>\n",
       "      <td>12</td>\n",
       "      <td>Mueller Sport Care Basic Support Level Medium ...</td>\n",
       "      <td>8.40</td>\n",
       "      <td>74676640211</td>\n",
       "      <td>74676640211</td>\n",
       "      <td>15000 San Pedro Ave</td>\n",
       "      <td>San Antonio</td>\n",
       "      <td>8</td>\n",
       "      <td>TX</td>\n",
       "      <td>78232</td>\n",
       "    </tr>\n",
       "    <tr>\n",
       "      <th>2013-01-01 00:00:00+00:00</th>\n",
       "      <td>35.0</td>\n",
       "      <td>215469</td>\n",
       "      <td>Mueller</td>\n",
       "      <td>12</td>\n",
       "      <td>Mueller Sport Care Basic Support Level Medium ...</td>\n",
       "      <td>8.40</td>\n",
       "      <td>74676640211</td>\n",
       "      <td>74676640211</td>\n",
       "      <td>735 SW Military Dr</td>\n",
       "      <td>San Antonio</td>\n",
       "      <td>9</td>\n",
       "      <td>TX</td>\n",
       "      <td>78221</td>\n",
       "    </tr>\n",
       "  </tbody>\n",
       "</table>\n",
       "</div>"
      ],
      "text/plain": [
       "                           sale_amount  sale_id  item_brand  item_id  \\\n",
       "sale_date                                                              \n",
       "2013-01-01 00:00:00+00:00         13.0        1    Riceland        1   \n",
       "2013-01-01 00:00:00+00:00         26.0   211817     Mueller       12   \n",
       "2013-01-01 00:00:00+00:00         27.0   832657  Mama Marys       46   \n",
       "2013-01-01 00:00:00+00:00         54.0   213643     Mueller       12   \n",
       "2013-01-01 00:00:00+00:00         35.0   215469     Mueller       12   \n",
       "\n",
       "                                                                   item_name  \\\n",
       "sale_date                                                                      \n",
       "2013-01-01 00:00:00+00:00                     Riceland American Jazmine Rice   \n",
       "2013-01-01 00:00:00+00:00  Mueller Sport Care Basic Support Level Medium ...   \n",
       "2013-01-01 00:00:00+00:00                                        Pizza Sauce   \n",
       "2013-01-01 00:00:00+00:00  Mueller Sport Care Basic Support Level Medium ...   \n",
       "2013-01-01 00:00:00+00:00  Mueller Sport Care Basic Support Level Medium ...   \n",
       "\n",
       "                           item_price   item_upc12   item_upc14  \\\n",
       "sale_date                                                         \n",
       "2013-01-01 00:00:00+00:00        0.84  35200264013  35200264013   \n",
       "2013-01-01 00:00:00+00:00        8.40  74676640211  74676640211   \n",
       "2013-01-01 00:00:00+00:00        4.65  35457770664  35457770664   \n",
       "2013-01-01 00:00:00+00:00        8.40  74676640211  74676640211   \n",
       "2013-01-01 00:00:00+00:00        8.40  74676640211  74676640211   \n",
       "\n",
       "                                    store_address   store_city  store_id  \\\n",
       "sale_date                                                                  \n",
       "2013-01-01 00:00:00+00:00  12125 Alamo Ranch Pkwy  San Antonio         1   \n",
       "2013-01-01 00:00:00+00:00  12018 Perrin Beitel Rd  San Antonio         7   \n",
       "2013-01-01 00:00:00+00:00  12018 Perrin Beitel Rd  San Antonio         7   \n",
       "2013-01-01 00:00:00+00:00     15000 San Pedro Ave  San Antonio         8   \n",
       "2013-01-01 00:00:00+00:00      735 SW Military Dr  San Antonio         9   \n",
       "\n",
       "                          store_state  store_zipcode  \n",
       "sale_date                                             \n",
       "2013-01-01 00:00:00+00:00          TX          78253  \n",
       "2013-01-01 00:00:00+00:00          TX          78217  \n",
       "2013-01-01 00:00:00+00:00          TX          78217  \n",
       "2013-01-01 00:00:00+00:00          TX          78232  \n",
       "2013-01-01 00:00:00+00:00          TX          78221  "
      ]
     },
     "execution_count": 4,
     "metadata": {},
     "output_type": "execute_result"
    }
   ],
   "source": [
    "df.head()"
   ]
  },
  {
   "cell_type": "code",
   "execution_count": 5,
   "id": "70479b85",
   "metadata": {},
   "outputs": [
    {
     "data": {
      "text/plain": [
       "(913000, 913000)"
      ]
     },
     "execution_count": 5,
     "metadata": {},
     "output_type": "execute_result"
    }
   ],
   "source": [
    "df.shape[0], df.sale_id.nunique()"
   ]
  },
  {
   "cell_type": "markdown",
   "id": "ad933889",
   "metadata": {},
   "source": [
    "# Prepare"
   ]
  },
  {
   "cell_type": "code",
   "execution_count": 6,
   "id": "9808f315",
   "metadata": {},
   "outputs": [
    {
     "data": {
      "text/plain": [
       "<AxesSubplot:xlabel='sale_date'>"
      ]
     },
     "execution_count": 6,
     "metadata": {},
     "output_type": "execute_result"
    },
    {
     "data": {
      "image/png": "[encoded data removed]",
      "text/plain": [
       "<Figure size 432x288 with 1 Axes>"
      ]
     },
     "metadata": {
      "needs_background": "light"
     },
     "output_type": "display_data"
    }
   ],
   "source": [
    "by_date = df.groupby(['sale_date']).sale_amount.sum().reset_index()\n",
    "by_date.plot(x='sale_date', y='sale_amount')"
   ]
  },
  {
   "cell_type": "markdown",
   "id": "1396b2ef",
   "metadata": {},
   "source": [
    "# Split data\n",
    "### human based split"
   ]
  },
  {
   "cell_type": "code",
   "execution_count": 7,
   "id": "8b884b28",
   "metadata": {},
   "outputs": [
    {
     "data": {
      "image/png": "[encoded data removed]",
      "text/plain": [
       "<Figure size 432x288 with 1 Axes>"
      ]
     },
     "metadata": {
      "needs_background": "light"
     },
     "output_type": "display_data"
    }
   ],
   "source": [
    "train = df[:'2016'] # includes 2016\n",
    "test = df['2017']\n",
    "\n",
    "train_by_date = train.groupby(['sale_date']).sale_amount.sum().reset_index()\n",
    "#train_by_date.plot(x='sale_date', y='sale_amount')\n",
    "\n",
    "test_by_date = test.groupby(['sale_date']).sale_amount.sum().reset_index()\n",
    "#test_by_date.plot(x='sale_date', y='sale_amount')\n",
    "\n",
    "plt.plot(train_by_date.sale_date, train_by_date.sale_amount)\n",
    "plt.plot(test_by_date.sale_date, test_by_date.sale_amount)\n",
    "plt.show()"
   ]
  },
  {
   "cell_type": "code",
   "execution_count": 8,
   "id": "385caf06",
   "metadata": {},
   "outputs": [
    {
     "data": {
      "text/html": [
       "<div>\n",
       "<style scoped>\n",
       "    .dataframe tbody tr th:only-of-type {\n",
       "        vertical-align: middle;\n",
       "    }\n",
       "\n",
       "    .dataframe tbody tr th {\n",
       "        vertical-align: top;\n",
       "    }\n",
       "\n",
       "    .dataframe thead th {\n",
       "        text-align: right;\n",
       "    }\n",
       "</style>\n",
       "<table border=\"1\" class=\"dataframe\">\n",
       "  <thead>\n",
       "    <tr style=\"text-align: right;\">\n",
       "      <th></th>\n",
       "      <th>sale_amount</th>\n",
       "      <th>sale_id</th>\n",
       "      <th>item_brand</th>\n",
       "      <th>item_id</th>\n",
       "      <th>item_name</th>\n",
       "      <th>item_price</th>\n",
       "      <th>item_upc12</th>\n",
       "      <th>item_upc14</th>\n",
       "      <th>store_address</th>\n",
       "      <th>store_city</th>\n",
       "      <th>store_id</th>\n",
       "      <th>store_state</th>\n",
       "      <th>store_zipcode</th>\n",
       "    </tr>\n",
       "    <tr>\n",
       "      <th>sale_date</th>\n",
       "      <th></th>\n",
       "      <th></th>\n",
       "      <th></th>\n",
       "      <th></th>\n",
       "      <th></th>\n",
       "      <th></th>\n",
       "      <th></th>\n",
       "      <th></th>\n",
       "      <th></th>\n",
       "      <th></th>\n",
       "      <th></th>\n",
       "      <th></th>\n",
       "      <th></th>\n",
       "    </tr>\n",
       "  </thead>\n",
       "  <tbody>\n",
       "    <tr>\n",
       "      <th>2013-01-01 00:00:00+00:00</th>\n",
       "      <td>13.0</td>\n",
       "      <td>1</td>\n",
       "      <td>Riceland</td>\n",
       "      <td>1</td>\n",
       "      <td>Riceland American Jazmine Rice</td>\n",
       "      <td>0.84</td>\n",
       "      <td>35200264013</td>\n",
       "      <td>35200264013</td>\n",
       "      <td>12125 Alamo Ranch Pkwy</td>\n",
       "      <td>San Antonio</td>\n",
       "      <td>1</td>\n",
       "      <td>TX</td>\n",
       "      <td>78253</td>\n",
       "    </tr>\n",
       "    <tr>\n",
       "      <th>2013-01-01 00:00:00+00:00</th>\n",
       "      <td>26.0</td>\n",
       "      <td>211817</td>\n",
       "      <td>Mueller</td>\n",
       "      <td>12</td>\n",
       "      <td>Mueller Sport Care Basic Support Level Medium ...</td>\n",
       "      <td>8.40</td>\n",
       "      <td>74676640211</td>\n",
       "      <td>74676640211</td>\n",
       "      <td>12018 Perrin Beitel Rd</td>\n",
       "      <td>San Antonio</td>\n",
       "      <td>7</td>\n",
       "      <td>TX</td>\n",
       "      <td>78217</td>\n",
       "    </tr>\n",
       "    <tr>\n",
       "      <th>2013-01-01 00:00:00+00:00</th>\n",
       "      <td>27.0</td>\n",
       "      <td>832657</td>\n",
       "      <td>Mama Marys</td>\n",
       "      <td>46</td>\n",
       "      <td>Pizza Sauce</td>\n",
       "      <td>4.65</td>\n",
       "      <td>35457770664</td>\n",
       "      <td>35457770664</td>\n",
       "      <td>12018 Perrin Beitel Rd</td>\n",
       "      <td>San Antonio</td>\n",
       "      <td>7</td>\n",
       "      <td>TX</td>\n",
       "      <td>78217</td>\n",
       "    </tr>\n",
       "    <tr>\n",
       "      <th>2013-01-01 00:00:00+00:00</th>\n",
       "      <td>54.0</td>\n",
       "      <td>213643</td>\n",
       "      <td>Mueller</td>\n",
       "      <td>12</td>\n",
       "      <td>Mueller Sport Care Basic Support Level Medium ...</td>\n",
       "      <td>8.40</td>\n",
       "      <td>74676640211</td>\n",
       "      <td>74676640211</td>\n",
       "      <td>15000 San Pedro Ave</td>\n",
       "      <td>San Antonio</td>\n",
       "      <td>8</td>\n",
       "      <td>TX</td>\n",
       "      <td>78232</td>\n",
       "    </tr>\n",
       "    <tr>\n",
       "      <th>2013-01-01 00:00:00+00:00</th>\n",
       "      <td>35.0</td>\n",
       "      <td>215469</td>\n",
       "      <td>Mueller</td>\n",
       "      <td>12</td>\n",
       "      <td>Mueller Sport Care Basic Support Level Medium ...</td>\n",
       "      <td>8.40</td>\n",
       "      <td>74676640211</td>\n",
       "      <td>74676640211</td>\n",
       "      <td>735 SW Military Dr</td>\n",
       "      <td>San Antonio</td>\n",
       "      <td>9</td>\n",
       "      <td>TX</td>\n",
       "      <td>78221</td>\n",
       "    </tr>\n",
       "  </tbody>\n",
       "</table>\n",
       "</div>"
      ],
      "text/plain": [
       "                           sale_amount  sale_id  item_brand  item_id  \\\n",
       "sale_date                                                              \n",
       "2013-01-01 00:00:00+00:00         13.0        1    Riceland        1   \n",
       "2013-01-01 00:00:00+00:00         26.0   211817     Mueller       12   \n",
       "2013-01-01 00:00:00+00:00         27.0   832657  Mama Marys       46   \n",
       "2013-01-01 00:00:00+00:00         54.0   213643     Mueller       12   \n",
       "2013-01-01 00:00:00+00:00         35.0   215469     Mueller       12   \n",
       "\n",
       "                                                                   item_name  \\\n",
       "sale_date                                                                      \n",
       "2013-01-01 00:00:00+00:00                     Riceland American Jazmine Rice   \n",
       "2013-01-01 00:00:00+00:00  Mueller Sport Care Basic Support Level Medium ...   \n",
       "2013-01-01 00:00:00+00:00                                        Pizza Sauce   \n",
       "2013-01-01 00:00:00+00:00  Mueller Sport Care Basic Support Level Medium ...   \n",
       "2013-01-01 00:00:00+00:00  Mueller Sport Care Basic Support Level Medium ...   \n",
       "\n",
       "                           item_price   item_upc12   item_upc14  \\\n",
       "sale_date                                                         \n",
       "2013-01-01 00:00:00+00:00        0.84  35200264013  35200264013   \n",
       "2013-01-01 00:00:00+00:00        8.40  74676640211  74676640211   \n",
       "2013-01-01 00:00:00+00:00        4.65  35457770664  35457770664   \n",
       "2013-01-01 00:00:00+00:00        8.40  74676640211  74676640211   \n",
       "2013-01-01 00:00:00+00:00        8.40  74676640211  74676640211   \n",
       "\n",
       "                                    store_address   store_city  store_id  \\\n",
       "sale_date                                                                  \n",
       "2013-01-01 00:00:00+00:00  12125 Alamo Ranch Pkwy  San Antonio         1   \n",
       "2013-01-01 00:00:00+00:00  12018 Perrin Beitel Rd  San Antonio         7   \n",
       "2013-01-01 00:00:00+00:00  12018 Perrin Beitel Rd  San Antonio         7   \n",
       "2013-01-01 00:00:00+00:00     15000 San Pedro Ave  San Antonio         8   \n",
       "2013-01-01 00:00:00+00:00      735 SW Military Dr  San Antonio         9   \n",
       "\n",
       "                          store_state  store_zipcode  \n",
       "sale_date                                             \n",
       "2013-01-01 00:00:00+00:00          TX          78253  \n",
       "2013-01-01 00:00:00+00:00          TX          78217  \n",
       "2013-01-01 00:00:00+00:00          TX          78217  \n",
       "2013-01-01 00:00:00+00:00          TX          78232  \n",
       "2013-01-01 00:00:00+00:00          TX          78221  "
      ]
     },
     "execution_count": 8,
     "metadata": {},
     "output_type": "execute_result"
    }
   ],
   "source": [
    "train.head()"
   ]
  },
  {
   "cell_type": "markdown",
   "id": "e551e171",
   "metadata": {},
   "source": [
    "# Explore"
   ]
  },
  {
   "cell_type": "code",
   "execution_count": 9,
   "id": "1e490ffb",
   "metadata": {},
   "outputs": [
    {
     "data": {
      "text/plain": [
       "sale_date\n",
       "2013-01-01 00:00:00+00:00    13.0\n",
       "2013-01-01 00:00:00+00:00    26.0\n",
       "2013-01-01 00:00:00+00:00    27.0\n",
       "2013-01-01 00:00:00+00:00    54.0\n",
       "2013-01-01 00:00:00+00:00    35.0\n",
       "Name: sale_amount, dtype: float64"
      ]
     },
     "execution_count": 9,
     "metadata": {},
     "output_type": "execute_result"
    }
   ],
   "source": [
    "y = train.sale_amount\n",
    "y.head()"
   ]
  },
  {
   "cell_type": "code",
   "execution_count": 10,
   "id": "e74b698f",
   "metadata": {},
   "outputs": [
    {
     "data": {
      "image/png": "[encoded data removed]",
      "text/plain": [
       "<Figure size 432x288 with 1 Axes>"
      ]
     },
     "metadata": {
      "needs_background": "light"
     },
     "output_type": "display_data"
    }
   ],
   "source": [
    "y.plot();"
   ]
  },
  {
   "cell_type": "code",
   "execution_count": 11,
   "id": "7de220f2",
   "metadata": {},
   "outputs": [
    {
     "data": {
      "image/png": "[encoded data removed]",
      "text/plain": [
       "<Figure size 432x288 with 1 Axes>"
      ]
     },
     "metadata": {
      "needs_background": "light"
     },
     "output_type": "display_data"
    }
   ],
   "source": [
    "y.resample('2W').mean().plot(title='2 week average');"
   ]
  },
  {
   "cell_type": "code",
   "execution_count": 12,
   "id": "6c357916",
   "metadata": {},
   "outputs": [
    {
     "data": {
      "text/plain": [
       "<matplotlib.legend.Legend at 0x7fd9814aa040>"
      ]
     },
     "execution_count": 12,
     "metadata": {},
     "output_type": "execute_result"
    },
    {
     "data": {
      "image/png": "[encoded data removed]",
      "text/plain": [
       "<Figure size 432x288 with 1 Axes>"
      ]
     },
     "metadata": {
      "needs_background": "light"
     },
     "output_type": "display_data"
    }
   ],
   "source": [
    "ax = y.plot(alpha=.3, label='Hourly')\n",
    "y.resample('D').mean().plot(ax=ax, alpha=.5, label='Daily')\n",
    "y.resample('W').mean().plot(ax=ax, alpha=.8, label='Weekly')\n",
    "y.resample('M').mean().plot(ax=ax, label='Monthly')\n",
    "y.resample('Y').mean().plot(label='Yearly')\n",
    "ax.legend(loc = 'lower right')"
   ]
  },
  {
   "cell_type": "code",
   "execution_count": 13,
   "id": "aba56df5",
   "metadata": {},
   "outputs": [
    {
     "data": {
      "text/plain": [
       "<AxesSubplot:xlabel='sale_date'>"
      ]
     },
     "execution_count": 13,
     "metadata": {},
     "output_type": "execute_result"
    },
    {
     "data": {
      "image/png": "[encoded data removed]",
      "text/plain": [
       "<Figure size 432x288 with 1 Axes>"
      ]
     },
     "metadata": {
      "needs_background": "light"
     },
     "output_type": "display_data"
    }
   ],
   "source": [
    "train.resample('D').sale_amount.mean().plot()\n",
    "test.resample('D').sale_amount.mean().plot()"
   ]
  },
  {
   "cell_type": "markdown",
   "id": "9458cd97",
   "metadata": {},
   "source": [
    "### visualize by month"
   ]
  },
  {
   "cell_type": "code",
   "execution_count": 14,
   "id": "4811afb6",
   "metadata": {},
   "outputs": [],
   "source": [
    "# make an new column 'month'\n",
    "df['month'] = df.index.month"
   ]
  },
  {
   "cell_type": "code",
   "execution_count": 15,
   "id": "3b954a12",
   "metadata": {},
   "outputs": [
    {
     "data": {
      "text/plain": [
       "<AxesSubplot:xlabel='sale_date'>"
      ]
     },
     "execution_count": 15,
     "metadata": {},
     "output_type": "execute_result"
    },
    {
     "data": {
      "image/png": "[encoded data removed]",
      "text/plain": [
       "<Figure size 432x288 with 1 Axes>"
      ]
     },
     "metadata": {
      "needs_background": "light"
     },
     "output_type": "display_data"
    }
   ],
   "source": [
    "# Plot mean sales by month (bar plot)\n",
    "# y.groupby(y.index.month).mean().plot.bar()\n",
    "df.groupby(df.index.strftime('%m-%b')).sale_amount.mean().plot.bar()"
   ]
  },
  {
   "cell_type": "code",
   "execution_count": 16,
   "id": "04fc7719",
   "metadata": {},
   "outputs": [
    {
     "data": {
      "text/html": [
       "<div>\n",
       "<style scoped>\n",
       "    .dataframe tbody tr th:only-of-type {\n",
       "        vertical-align: middle;\n",
       "    }\n",
       "\n",
       "    .dataframe tbody tr th {\n",
       "        vertical-align: top;\n",
       "    }\n",
       "\n",
       "    .dataframe thead tr th {\n",
       "        text-align: left;\n",
       "    }\n",
       "\n",
       "    .dataframe thead tr:last-of-type th {\n",
       "        text-align: right;\n",
       "    }\n",
       "</style>\n",
       "<table border=\"1\" class=\"dataframe\">\n",
       "  <thead>\n",
       "    <tr>\n",
       "      <th></th>\n",
       "      <th colspan=\"8\" halign=\"left\">sale_amount</th>\n",
       "      <th colspan=\"2\" halign=\"left\">sale_id</th>\n",
       "      <th>...</th>\n",
       "      <th colspan=\"2\" halign=\"left\">store_id</th>\n",
       "      <th colspan=\"8\" halign=\"left\">store_zipcode</th>\n",
       "    </tr>\n",
       "    <tr>\n",
       "      <th></th>\n",
       "      <th>count</th>\n",
       "      <th>mean</th>\n",
       "      <th>std</th>\n",
       "      <th>min</th>\n",
       "      <th>25%</th>\n",
       "      <th>50%</th>\n",
       "      <th>75%</th>\n",
       "      <th>max</th>\n",
       "      <th>count</th>\n",
       "      <th>mean</th>\n",
       "      <th>...</th>\n",
       "      <th>75%</th>\n",
       "      <th>max</th>\n",
       "      <th>count</th>\n",
       "      <th>mean</th>\n",
       "      <th>std</th>\n",
       "      <th>min</th>\n",
       "      <th>25%</th>\n",
       "      <th>50%</th>\n",
       "      <th>75%</th>\n",
       "      <th>max</th>\n",
       "    </tr>\n",
       "    <tr>\n",
       "      <th>month</th>\n",
       "      <th></th>\n",
       "      <th></th>\n",
       "      <th></th>\n",
       "      <th></th>\n",
       "      <th></th>\n",
       "      <th></th>\n",
       "      <th></th>\n",
       "      <th></th>\n",
       "      <th></th>\n",
       "      <th></th>\n",
       "      <th></th>\n",
       "      <th></th>\n",
       "      <th></th>\n",
       "      <th></th>\n",
       "      <th></th>\n",
       "      <th></th>\n",
       "      <th></th>\n",
       "      <th></th>\n",
       "      <th></th>\n",
       "      <th></th>\n",
       "      <th></th>\n",
       "    </tr>\n",
       "  </thead>\n",
       "  <tbody>\n",
       "    <tr>\n",
       "      <th>1</th>\n",
       "      <td>77500.0</td>\n",
       "      <td>35.524503</td>\n",
       "      <td>18.508468</td>\n",
       "      <td>0.0</td>\n",
       "      <td>21.0</td>\n",
       "      <td>33.0</td>\n",
       "      <td>48.0</td>\n",
       "      <td>120.0</td>\n",
       "      <td>77500.0</td>\n",
       "      <td>456333.200000</td>\n",
       "      <td>...</td>\n",
       "      <td>8.0</td>\n",
       "      <td>10.0</td>\n",
       "      <td>77500.0</td>\n",
       "      <td>78224.8</td>\n",
       "      <td>16.479184</td>\n",
       "      <td>78201.0</td>\n",
       "      <td>78217.0</td>\n",
       "      <td>78220.5</td>\n",
       "      <td>78232.0</td>\n",
       "      <td>78253.0</td>\n",
       "    </tr>\n",
       "    <tr>\n",
       "      <th>2</th>\n",
       "      <td>70500.0</td>\n",
       "      <td>39.378397</td>\n",
       "      <td>20.444393</td>\n",
       "      <td>2.0</td>\n",
       "      <td>23.0</td>\n",
       "      <td>36.0</td>\n",
       "      <td>52.0</td>\n",
       "      <td>136.0</td>\n",
       "      <td>70500.0</td>\n",
       "      <td>456365.390071</td>\n",
       "      <td>...</td>\n",
       "      <td>8.0</td>\n",
       "      <td>10.0</td>\n",
       "      <td>70500.0</td>\n",
       "      <td>78224.8</td>\n",
       "      <td>16.479195</td>\n",
       "      <td>78201.0</td>\n",
       "      <td>78217.0</td>\n",
       "      <td>78220.5</td>\n",
       "      <td>78232.0</td>\n",
       "      <td>78253.0</td>\n",
       "    </tr>\n",
       "    <tr>\n",
       "      <th>3</th>\n",
       "      <td>77500.0</td>\n",
       "      <td>47.305574</td>\n",
       "      <td>24.269264</td>\n",
       "      <td>3.0</td>\n",
       "      <td>28.0</td>\n",
       "      <td>44.0</td>\n",
       "      <td>63.0</td>\n",
       "      <td>161.0</td>\n",
       "      <td>77500.0</td>\n",
       "      <td>456392.400000</td>\n",
       "      <td>...</td>\n",
       "      <td>8.0</td>\n",
       "      <td>10.0</td>\n",
       "      <td>77500.0</td>\n",
       "      <td>78224.8</td>\n",
       "      <td>16.479184</td>\n",
       "      <td>78201.0</td>\n",
       "      <td>78217.0</td>\n",
       "      <td>78220.5</td>\n",
       "      <td>78232.0</td>\n",
       "      <td>78253.0</td>\n",
       "    </tr>\n",
       "    <tr>\n",
       "      <th>4</th>\n",
       "      <td>75000.0</td>\n",
       "      <td>55.152893</td>\n",
       "      <td>28.297197</td>\n",
       "      <td>3.0</td>\n",
       "      <td>32.0</td>\n",
       "      <td>51.0</td>\n",
       "      <td>74.0</td>\n",
       "      <td>182.0</td>\n",
       "      <td>75000.0</td>\n",
       "      <td>456422.900000</td>\n",
       "      <td>...</td>\n",
       "      <td>8.0</td>\n",
       "      <td>10.0</td>\n",
       "      <td>75000.0</td>\n",
       "      <td>78224.8</td>\n",
       "      <td>16.479188</td>\n",
       "      <td>78201.0</td>\n",
       "      <td>78217.0</td>\n",
       "      <td>78220.5</td>\n",
       "      <td>78232.0</td>\n",
       "      <td>78253.0</td>\n",
       "    </tr>\n",
       "    <tr>\n",
       "      <th>5</th>\n",
       "      <td>77500.0</td>\n",
       "      <td>59.128219</td>\n",
       "      <td>30.102166</td>\n",
       "      <td>3.0</td>\n",
       "      <td>35.0</td>\n",
       "      <td>55.0</td>\n",
       "      <td>79.0</td>\n",
       "      <td>195.0</td>\n",
       "      <td>77500.0</td>\n",
       "      <td>456453.400000</td>\n",
       "      <td>...</td>\n",
       "      <td>8.0</td>\n",
       "      <td>10.0</td>\n",
       "      <td>77500.0</td>\n",
       "      <td>78224.8</td>\n",
       "      <td>16.479184</td>\n",
       "      <td>78201.0</td>\n",
       "      <td>78217.0</td>\n",
       "      <td>78220.5</td>\n",
       "      <td>78232.0</td>\n",
       "      <td>78253.0</td>\n",
       "    </tr>\n",
       "    <tr>\n",
       "      <th>6</th>\n",
       "      <td>75000.0</td>\n",
       "      <td>63.025480</td>\n",
       "      <td>32.025829</td>\n",
       "      <td>5.0</td>\n",
       "      <td>37.0</td>\n",
       "      <td>58.0</td>\n",
       "      <td>84.0</td>\n",
       "      <td>198.0</td>\n",
       "      <td>75000.0</td>\n",
       "      <td>456483.900000</td>\n",
       "      <td>...</td>\n",
       "      <td>8.0</td>\n",
       "      <td>10.0</td>\n",
       "      <td>75000.0</td>\n",
       "      <td>78224.8</td>\n",
       "      <td>16.479188</td>\n",
       "      <td>78201.0</td>\n",
       "      <td>78217.0</td>\n",
       "      <td>78220.5</td>\n",
       "      <td>78232.0</td>\n",
       "      <td>78253.0</td>\n",
       "    </tr>\n",
       "    <tr>\n",
       "      <th>7</th>\n",
       "      <td>77500.0</td>\n",
       "      <td>66.998619</td>\n",
       "      <td>34.133458</td>\n",
       "      <td>5.0</td>\n",
       "      <td>39.0</td>\n",
       "      <td>62.0</td>\n",
       "      <td>89.0</td>\n",
       "      <td>231.0</td>\n",
       "      <td>77500.0</td>\n",
       "      <td>456514.400000</td>\n",
       "      <td>...</td>\n",
       "      <td>8.0</td>\n",
       "      <td>10.0</td>\n",
       "      <td>77500.0</td>\n",
       "      <td>78224.8</td>\n",
       "      <td>16.479184</td>\n",
       "      <td>78201.0</td>\n",
       "      <td>78217.0</td>\n",
       "      <td>78220.5</td>\n",
       "      <td>78232.0</td>\n",
       "      <td>78253.0</td>\n",
       "    </tr>\n",
       "    <tr>\n",
       "      <th>8</th>\n",
       "      <td>77500.0</td>\n",
       "      <td>59.105226</td>\n",
       "      <td>30.084162</td>\n",
       "      <td>3.0</td>\n",
       "      <td>35.0</td>\n",
       "      <td>55.0</td>\n",
       "      <td>79.0</td>\n",
       "      <td>201.0</td>\n",
       "      <td>77500.0</td>\n",
       "      <td>456545.400000</td>\n",
       "      <td>...</td>\n",
       "      <td>8.0</td>\n",
       "      <td>10.0</td>\n",
       "      <td>77500.0</td>\n",
       "      <td>78224.8</td>\n",
       "      <td>16.479184</td>\n",
       "      <td>78201.0</td>\n",
       "      <td>78217.0</td>\n",
       "      <td>78220.5</td>\n",
       "      <td>78232.0</td>\n",
       "      <td>78253.0</td>\n",
       "    </tr>\n",
       "    <tr>\n",
       "      <th>9</th>\n",
       "      <td>75000.0</td>\n",
       "      <td>55.072760</td>\n",
       "      <td>28.168197</td>\n",
       "      <td>4.0</td>\n",
       "      <td>32.0</td>\n",
       "      <td>51.0</td>\n",
       "      <td>73.0</td>\n",
       "      <td>183.0</td>\n",
       "      <td>75000.0</td>\n",
       "      <td>456575.900000</td>\n",
       "      <td>...</td>\n",
       "      <td>8.0</td>\n",
       "      <td>10.0</td>\n",
       "      <td>75000.0</td>\n",
       "      <td>78224.8</td>\n",
       "      <td>16.479188</td>\n",
       "      <td>78201.0</td>\n",
       "      <td>78217.0</td>\n",
       "      <td>78220.5</td>\n",
       "      <td>78232.0</td>\n",
       "      <td>78253.0</td>\n",
       "    </tr>\n",
       "    <tr>\n",
       "      <th>10</th>\n",
       "      <td>77500.0</td>\n",
       "      <td>51.193806</td>\n",
       "      <td>26.316421</td>\n",
       "      <td>2.0</td>\n",
       "      <td>30.0</td>\n",
       "      <td>47.0</td>\n",
       "      <td>68.0</td>\n",
       "      <td>168.0</td>\n",
       "      <td>77500.0</td>\n",
       "      <td>456606.400000</td>\n",
       "      <td>...</td>\n",
       "      <td>8.0</td>\n",
       "      <td>10.0</td>\n",
       "      <td>77500.0</td>\n",
       "      <td>78224.8</td>\n",
       "      <td>16.479184</td>\n",
       "      <td>78201.0</td>\n",
       "      <td>78217.0</td>\n",
       "      <td>78220.5</td>\n",
       "      <td>78232.0</td>\n",
       "      <td>78253.0</td>\n",
       "    </tr>\n",
       "    <tr>\n",
       "      <th>11</th>\n",
       "      <td>75000.0</td>\n",
       "      <td>55.218080</td>\n",
       "      <td>28.154336</td>\n",
       "      <td>3.0</td>\n",
       "      <td>32.0</td>\n",
       "      <td>51.0</td>\n",
       "      <td>74.0</td>\n",
       "      <td>187.0</td>\n",
       "      <td>75000.0</td>\n",
       "      <td>456636.900000</td>\n",
       "      <td>...</td>\n",
       "      <td>8.0</td>\n",
       "      <td>10.0</td>\n",
       "      <td>75000.0</td>\n",
       "      <td>78224.8</td>\n",
       "      <td>16.479188</td>\n",
       "      <td>78201.0</td>\n",
       "      <td>78217.0</td>\n",
       "      <td>78220.5</td>\n",
       "      <td>78232.0</td>\n",
       "      <td>78253.0</td>\n",
       "    </tr>\n",
       "    <tr>\n",
       "      <th>12</th>\n",
       "      <td>77500.0</td>\n",
       "      <td>39.365265</td>\n",
       "      <td>20.458646</td>\n",
       "      <td>1.0</td>\n",
       "      <td>23.0</td>\n",
       "      <td>36.0</td>\n",
       "      <td>53.0</td>\n",
       "      <td>135.0</td>\n",
       "      <td>77500.0</td>\n",
       "      <td>456667.400000</td>\n",
       "      <td>...</td>\n",
       "      <td>8.0</td>\n",
       "      <td>10.0</td>\n",
       "      <td>77500.0</td>\n",
       "      <td>78224.8</td>\n",
       "      <td>16.479184</td>\n",
       "      <td>78201.0</td>\n",
       "      <td>78217.0</td>\n",
       "      <td>78220.5</td>\n",
       "      <td>78232.0</td>\n",
       "      <td>78253.0</td>\n",
       "    </tr>\n",
       "  </tbody>\n",
       "</table>\n",
       "<p>12 rows × 64 columns</p>\n",
       "</div>"
      ],
      "text/plain": [
       "      sale_amount                                                      \\\n",
       "            count       mean        std  min   25%   50%   75%    max   \n",
       "month                                                                   \n",
       "1         77500.0  35.524503  18.508468  0.0  21.0  33.0  48.0  120.0   \n",
       "2         70500.0  39.378397  20.444393  2.0  23.0  36.0  52.0  136.0   \n",
       "3         77500.0  47.305574  24.269264  3.0  28.0  44.0  63.0  161.0   \n",
       "4         75000.0  55.152893  28.297197  3.0  32.0  51.0  74.0  182.0   \n",
       "5         77500.0  59.128219  30.102166  3.0  35.0  55.0  79.0  195.0   \n",
       "6         75000.0  63.025480  32.025829  5.0  37.0  58.0  84.0  198.0   \n",
       "7         77500.0  66.998619  34.133458  5.0  39.0  62.0  89.0  231.0   \n",
       "8         77500.0  59.105226  30.084162  3.0  35.0  55.0  79.0  201.0   \n",
       "9         75000.0  55.072760  28.168197  4.0  32.0  51.0  73.0  183.0   \n",
       "10        77500.0  51.193806  26.316421  2.0  30.0  47.0  68.0  168.0   \n",
       "11        75000.0  55.218080  28.154336  3.0  32.0  51.0  74.0  187.0   \n",
       "12        77500.0  39.365265  20.458646  1.0  23.0  36.0  53.0  135.0   \n",
       "\n",
       "       sale_id                 ... store_id       store_zipcode           \\\n",
       "         count           mean  ...      75%   max         count     mean   \n",
       "month                          ...                                         \n",
       "1      77500.0  456333.200000  ...      8.0  10.0       77500.0  78224.8   \n",
       "2      70500.0  456365.390071  ...      8.0  10.0       70500.0  78224.8   \n",
       "3      77500.0  456392.400000  ...      8.0  10.0       77500.0  78224.8   \n",
       "4      75000.0  456422.900000  ...      8.0  10.0       75000.0  78224.8   \n",
       "5      77500.0  456453.400000  ...      8.0  10.0       77500.0  78224.8   \n",
       "6      75000.0  456483.900000  ...      8.0  10.0       75000.0  78224.8   \n",
       "7      77500.0  456514.400000  ...      8.0  10.0       77500.0  78224.8   \n",
       "8      77500.0  456545.400000  ...      8.0  10.0       77500.0  78224.8   \n",
       "9      75000.0  456575.900000  ...      8.0  10.0       75000.0  78224.8   \n",
       "10     77500.0  456606.400000  ...      8.0  10.0       77500.0  78224.8   \n",
       "11     75000.0  456636.900000  ...      8.0  10.0       75000.0  78224.8   \n",
       "12     77500.0  456667.400000  ...      8.0  10.0       77500.0  78224.8   \n",
       "\n",
       "                                                               \n",
       "             std      min      25%      50%      75%      max  \n",
       "month                                                          \n",
       "1      16.479184  78201.0  78217.0  78220.5  78232.0  78253.0  \n",
       "2      16.479195  78201.0  78217.0  78220.5  78232.0  78253.0  \n",
       "3      16.479184  78201.0  78217.0  78220.5  78232.0  78253.0  \n",
       "4      16.479188  78201.0  78217.0  78220.5  78232.0  78253.0  \n",
       "5      16.479184  78201.0  78217.0  78220.5  78232.0  78253.0  \n",
       "6      16.479188  78201.0  78217.0  78220.5  78232.0  78253.0  \n",
       "7      16.479184  78201.0  78217.0  78220.5  78232.0  78253.0  \n",
       "8      16.479184  78201.0  78217.0  78220.5  78232.0  78253.0  \n",
       "9      16.479188  78201.0  78217.0  78220.5  78232.0  78253.0  \n",
       "10     16.479184  78201.0  78217.0  78220.5  78232.0  78253.0  \n",
       "11     16.479188  78201.0  78217.0  78220.5  78232.0  78253.0  \n",
       "12     16.479184  78201.0  78217.0  78220.5  78232.0  78253.0  \n",
       "\n",
       "[12 rows x 64 columns]"
      ]
     },
     "execution_count": 16,
     "metadata": {},
     "output_type": "execute_result"
    }
   ],
   "source": [
    "# visualize just mean sales amount by month\n",
    "df.groupby('month').describe()"
   ]
  },
  {
   "cell_type": "code",
   "execution_count": 17,
   "id": "51209dab",
   "metadata": {},
   "outputs": [
    {
     "data": {
      "text/plain": [
       "<AxesSubplot:xlabel='month', ylabel='sale_amount'>"
      ]
     },
     "execution_count": 17,
     "metadata": {},
     "output_type": "execute_result"
    },
    {
     "data": {
      "image/png": "[encoded data removed]",
      "text/plain": [
       "<Figure size 432x288 with 1 Axes>"
      ]
     },
     "metadata": {
      "needs_background": "light"
     },
     "output_type": "display_data"
    }
   ],
   "source": [
    "# boxplot for each month\n",
    "sns.boxplot(data = df, x = 'month', y = 'sale_amount')"
   ]
  },
  {
   "cell_type": "markdown",
   "id": "cff5db3e",
   "metadata": {},
   "source": [
    "### Moving averages"
   ]
  },
  {
   "cell_type": "code",
   "execution_count": 18,
   "id": "d24b3a51",
   "metadata": {},
   "outputs": [
    {
     "data": {
      "text/plain": [
       "<matplotlib.legend.Legend at 0x7fd9b20b9220>"
      ]
     },
     "execution_count": 18,
     "metadata": {},
     "output_type": "execute_result"
    },
    {
     "data": {
      "image/png": "[encoded data removed]",
      "text/plain": [
       "<Figure size 432x288 with 1 Axes>"
      ]
     },
     "metadata": {
      "needs_background": "light"
     },
     "output_type": "display_data"
    }
   ],
   "source": [
    "y.plot(alpha=.2, label='Hourly')\n",
    "y.resample('D').mean().rolling(7).mean().plot(alpha=.5, label='1 week')\n",
    "y.resample('D').mean().rolling(30).mean().plot(alpha=8, label='30 days')\n",
    "plt.legend()"
   ]
  },
  {
   "cell_type": "markdown",
   "id": "14d2a3ee",
   "metadata": {},
   "source": [
    "**Differences**\n",
    "\n",
    "`.diff` let's us take the difference between the current and previous value."
   ]
  },
  {
   "cell_type": "code",
   "execution_count": 19,
   "id": "05cbab62",
   "metadata": {},
   "outputs": [
    {
     "data": {
      "text/plain": [
       "sale_date\n",
       "2013-01-06 00:00:00+00:00          NaN\n",
       "2013-01-13 00:00:00+00:00    -0.669381\n",
       "2013-01-20 00:00:00+00:00    -0.272000\n",
       "2013-01-27 00:00:00+00:00     0.099429\n",
       "2013-02-03 00:00:00+00:00     1.636857\n",
       "                               ...    \n",
       "2016-12-04 00:00:00+00:00   -10.624000\n",
       "2016-12-11 00:00:00+00:00    -6.398286\n",
       "2016-12-18 00:00:00+00:00     0.063714\n",
       "2016-12-25 00:00:00+00:00    -0.002000\n",
       "2017-01-01 00:00:00+00:00    -1.703286\n",
       "Freq: W-SUN, Name: sale_amount, Length: 209, dtype: float64"
      ]
     },
     "execution_count": 19,
     "metadata": {},
     "output_type": "execute_result"
    }
   ],
   "source": [
    "y.resample('W').mean().diff()"
   ]
  },
  {
   "cell_type": "code",
   "execution_count": 20,
   "id": "c8a3d7d1",
   "metadata": {},
   "outputs": [
    {
     "data": {
      "image/png": "[encoded data removed]",
      "text/plain": [
       "<Figure size 432x288 with 1 Axes>"
      ]
     },
     "metadata": {
      "needs_background": "light"
     },
     "output_type": "display_data"
    }
   ],
   "source": [
    "y.resample('W').mean().diff().plot(title='Average week-to-week change in sales amount');"
   ]
  },
  {
   "cell_type": "code",
   "execution_count": 21,
   "id": "f4d83db0",
   "metadata": {},
   "outputs": [
    {
     "data": {
      "image/png": "[encoded data removed]",
      "text/plain": [
       "<Figure size 432x288 with 1 Axes>"
      ]
     },
     "metadata": {
      "needs_background": "light"
     },
     "output_type": "display_data"
    }
   ],
   "source": [
    "y.resample('M').mean().diff().plot(title='Average month-to-month change in sales amount');"
   ]
  },
  {
   "cell_type": "code",
   "execution_count": 22,
   "id": "e1a0558a",
   "metadata": {},
   "outputs": [],
   "source": [
    "# significant drop in sales in December and January months\n",
    "# peak sales months are during Summer months -May through August"
   ]
  },
  {
   "cell_type": "markdown",
   "id": "c1e4b72c",
   "metadata": {},
   "source": [
    "**Seasonal Plot**"
   ]
  },
  {
   "cell_type": "code",
   "execution_count": 24,
   "id": "0f1ec991",
   "metadata": {},
   "outputs": [
    {
     "data": {
      "text/plain": [
       "<AxesSubplot:xlabel='sale_date'>"
      ]
     },
     "execution_count": 24,
     "metadata": {},
     "output_type": "execute_result"
    },
    {
     "data": {
      "image/png": "[encoded data removed]",
      "text/plain": [
       "<Figure size 432x288 with 1 Axes>"
      ]
     },
     "metadata": {
      "needs_background": "light"
     },
     "output_type": "display_data"
    }
   ],
   "source": [
    "y.groupby([y.index.year, y.index.month]).mean().unstack(0).plot()"
   ]
  },
  {
   "cell_type": "code",
   "execution_count": null,
   "id": "dfc458ee",
   "metadata": {},
   "outputs": [],
   "source": [
    "# sales increased by each year passing"
   ]
  },
  {
   "cell_type": "markdown",
   "id": "342762e5",
   "metadata": {},
   "source": [
    "**Seasonal Subseries plot**"
   ]
  },
  {
   "cell_type": "code",
   "execution_count": 25,
   "id": "5fe79ea7",
   "metadata": {},
   "outputs": [
    {
     "data": {
      "text/html": [
       "<div>\n",
       "<style scoped>\n",
       "    .dataframe tbody tr th:only-of-type {\n",
       "        vertical-align: middle;\n",
       "    }\n",
       "\n",
       "    .dataframe tbody tr th {\n",
       "        vertical-align: top;\n",
       "    }\n",
       "\n",
       "    .dataframe thead th {\n",
       "        text-align: right;\n",
       "    }\n",
       "</style>\n",
       "<table border=\"1\" class=\"dataframe\">\n",
       "  <thead>\n",
       "    <tr style=\"text-align: right;\">\n",
       "      <th>sale_date</th>\n",
       "      <th>1</th>\n",
       "      <th>2</th>\n",
       "      <th>3</th>\n",
       "      <th>4</th>\n",
       "      <th>5</th>\n",
       "      <th>6</th>\n",
       "      <th>7</th>\n",
       "      <th>8</th>\n",
       "      <th>9</th>\n",
       "      <th>10</th>\n",
       "      <th>11</th>\n",
       "      <th>12</th>\n",
       "    </tr>\n",
       "    <tr>\n",
       "      <th>sale_date</th>\n",
       "      <th></th>\n",
       "      <th></th>\n",
       "      <th></th>\n",
       "      <th></th>\n",
       "      <th></th>\n",
       "      <th></th>\n",
       "      <th></th>\n",
       "      <th></th>\n",
       "      <th></th>\n",
       "      <th></th>\n",
       "      <th></th>\n",
       "      <th></th>\n",
       "    </tr>\n",
       "  </thead>\n",
       "  <tbody>\n",
       "    <tr>\n",
       "      <th>2013</th>\n",
       "      <td>29.348645</td>\n",
       "      <td>32.815500</td>\n",
       "      <td>39.831097</td>\n",
       "      <td>45.484933</td>\n",
       "      <td>49.241419</td>\n",
       "      <td>53.039800</td>\n",
       "      <td>55.220774</td>\n",
       "      <td>49.468452</td>\n",
       "      <td>45.993800</td>\n",
       "      <td>42.360452</td>\n",
       "      <td>46.176200</td>\n",
       "      <td>32.684323</td>\n",
       "    </tr>\n",
       "    <tr>\n",
       "      <th>2014</th>\n",
       "      <td>33.934645</td>\n",
       "      <td>37.794071</td>\n",
       "      <td>45.438774</td>\n",
       "      <td>52.594267</td>\n",
       "      <td>56.959806</td>\n",
       "      <td>60.456133</td>\n",
       "      <td>63.807097</td>\n",
       "      <td>57.135226</td>\n",
       "      <td>52.341600</td>\n",
       "      <td>48.960194</td>\n",
       "      <td>53.385533</td>\n",
       "      <td>37.293419</td>\n",
       "    </tr>\n",
       "    <tr>\n",
       "      <th>2015</th>\n",
       "      <td>35.646000</td>\n",
       "      <td>39.379786</td>\n",
       "      <td>47.158129</td>\n",
       "      <td>54.964467</td>\n",
       "      <td>59.800129</td>\n",
       "      <td>62.478933</td>\n",
       "      <td>66.925806</td>\n",
       "      <td>59.380710</td>\n",
       "      <td>54.888800</td>\n",
       "      <td>51.435677</td>\n",
       "      <td>55.176333</td>\n",
       "      <td>39.198194</td>\n",
       "    </tr>\n",
       "    <tr>\n",
       "      <th>2016</th>\n",
       "      <td>38.867032</td>\n",
       "      <td>42.410828</td>\n",
       "      <td>51.024581</td>\n",
       "      <td>60.130000</td>\n",
       "      <td>63.789032</td>\n",
       "      <td>68.177600</td>\n",
       "      <td>73.465677</td>\n",
       "      <td>63.322194</td>\n",
       "      <td>59.788733</td>\n",
       "      <td>55.718516</td>\n",
       "      <td>59.429867</td>\n",
       "      <td>42.800710</td>\n",
       "    </tr>\n",
       "  </tbody>\n",
       "</table>\n",
       "</div>"
      ],
      "text/plain": [
       "sale_date         1          2          3          4          5          6   \\\n",
       "sale_date                                                                     \n",
       "2013       29.348645  32.815500  39.831097  45.484933  49.241419  53.039800   \n",
       "2014       33.934645  37.794071  45.438774  52.594267  56.959806  60.456133   \n",
       "2015       35.646000  39.379786  47.158129  54.964467  59.800129  62.478933   \n",
       "2016       38.867032  42.410828  51.024581  60.130000  63.789032  68.177600   \n",
       "\n",
       "sale_date         7          8          9          10         11         12  \n",
       "sale_date                                                                    \n",
       "2013       55.220774  49.468452  45.993800  42.360452  46.176200  32.684323  \n",
       "2014       63.807097  57.135226  52.341600  48.960194  53.385533  37.293419  \n",
       "2015       66.925806  59.380710  54.888800  51.435677  55.176333  39.198194  \n",
       "2016       73.465677  63.322194  59.788733  55.718516  59.429867  42.800710  "
      ]
     },
     "execution_count": 25,
     "metadata": {},
     "output_type": "execute_result"
    }
   ],
   "source": [
    "table = y.groupby([y.index.year, y.index.month]).mean().unstack()\n",
    "table"
   ]
  },
  {
   "cell_type": "code",
   "execution_count": 28,
   "id": "1f696308",
   "metadata": {},
   "outputs": [
    {
     "data": {
      "image/png": "[encoded data removed]",
      "text/plain": [
       "<Figure size 432x288 with 12 Axes>"
      ]
     },
     "metadata": {
      "needs_background": "light"
     },
     "output_type": "display_data"
    }
   ],
   "source": [
    "fig, axs = plt.subplots(1, 12, sharey=True, sharex=True)\n",
    "for ax, (month, subset) in zip(axs, table.iteritems()):\n",
    "    subset.plot(ax=ax, title=month)\n",
    "    x_left, x_right = ax.get_xlim()\n",
    "    ax.hlines(subset.mean(), x_left, x_right, ls='--')\n",
    "    ax.set(xlabel='')\n",
    "\n",
    "fig.suptitle('Seasonal Subseries Plot') # super-title for the overall figure\n",
    "fig.subplots_adjust(wspace=0)"
   ]
  },
  {
   "cell_type": "code",
   "execution_count": null,
   "id": "054e313f",
   "metadata": {},
   "outputs": [],
   "source": []
  }
 ],
 "metadata": {
  "kernelspec": {
   "display_name": "Python 3",
   "language": "python",
   "name": "python3"
  },
  "language_info": {
   "codemirror_mode": {
    "name": "ipython",
    "version": 3
   },
   "file_extension": ".py",
   "mimetype": "text/x-python",
   "name": "python",
   "nbconvert_exporter": "python",
   "pygments_lexer": "ipython3",
   "version": "3.8.8"
  }
 },
 "nbformat": 4,
 "nbformat_minor": 5
}
